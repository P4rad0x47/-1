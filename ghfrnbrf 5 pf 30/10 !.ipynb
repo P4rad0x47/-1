{
  "cells": [
    {
      "cell_type": "markdown",
      "metadata": {
        "id": "view-in-github",
        "colab_type": "text"
      },
      "source": [
        "<a href=\"https://colab.research.google.com/github/P4rad0x47/-1/blob/main/ghfrnbrf%205%20pf%2030/10%20!.ipynb\" target=\"_parent\"><img src=\"https://colab.research.google.com/assets/colab-badge.svg\" alt=\"Open In Colab\"/></a>"
      ]
    },
    {
      "cell_type": "code",
      "source": [
        "numbers = []\n",
        "\n",
        "while True:\n",
        "  num = float(input('введите число или 0 для завершения: '))\n",
        "  if num == 0:\n",
        "    break\n",
        "  if 2 < num < 5:\n",
        "    numbers.append(num)\n",
        "print('числа от 2 до 5:', numbers)"
      ],
      "metadata": {
        "colab": {
          "base_uri": "https://localhost:8080/"
        },
        "id": "DuoATyyRRqZK",
        "outputId": "55396670-b3ae-43a4-b802-a5839d4183a3"
      },
      "execution_count": null,
      "outputs": [
        {
          "output_type": "stream",
          "name": "stdout",
          "text": [
            "введите число или 0 для завершения: 2132\n",
            "введите число или 0 для завершения: 32\n",
            "введите число или 0 для завершения: 122\n",
            "введите число или 0 для завершения: 1111\n",
            "введите число или 0 для завершения: 33\n",
            "введите число или 0 для завершения: 231\n",
            "введите число или 0 для завершения: 33\n",
            "введите число или 0 для завершения: 2\n",
            "введите число или 0 для завершения: 5\n",
            "введите число или 0 для завершения: 2\n",
            "введите число или 0 для завершения: 3\n",
            "введите число или 0 для завершения: 4\n",
            "введите число или 0 для завершения: 0\n",
            "числа от 2 до 5: [3.0, 4.0]\n"
          ]
        }
      ]
    },
    {
      "cell_type": "code",
      "source": [
        "numbers = []\n",
        "\n",
        "while True:\n",
        "  num = float(input('введите число или 0 для завершения: '))\n",
        "  if num == 0:\n",
        "    break\n",
        "  if 0 < num:\n",
        "    numbers.append(num)\n",
        "if numbers:\n",
        "  average = sum(numbers) / len(numbers)\n",
        "  print(\"среднее значение этих чисел\", average)"
      ],
      "metadata": {
        "colab": {
          "base_uri": "https://localhost:8080/"
        },
        "id": "Ah3uYH7yYphM",
        "outputId": "a204fb96-69fe-4e27-f6fe-52557ef8e837"
      },
      "execution_count": null,
      "outputs": [
        {
          "output_type": "stream",
          "name": "stdout",
          "text": [
            "введите число или 0 для завершения: 56\n",
            "введите число или 0 для завершения: 76\n",
            "введите число или 0 для завершения: 0\n",
            "среднее значение этих чисел 66.0\n"
          ]
        }
      ]
    },
    {
      "cell_type": "code",
      "source": [
        "a = float(input(\"первое число: \"))\n",
        "b = float(input(\"второе число: \"))\n",
        "result = (b !=0 and a / b) or 'не делится'\n",
        "print(result)"
      ],
      "metadata": {
        "colab": {
          "base_uri": "https://localhost:8080/"
        },
        "id": "QUqnp27tZvM3",
        "outputId": "e1692c50-a8ea-40f3-ca9f-8eed5973d901"
      },
      "execution_count": null,
      "outputs": [
        {
          "output_type": "stream",
          "name": "stdout",
          "text": [
            "первое число: 2323221\n",
            "второе число: 767\n",
            "3028.9713168187745\n"
          ]
        }
      ]
    }
  ],
  "metadata": {
    "colab": {
      "name": "Добро пожаловать в Colaboratory!",
      "toc_visible": true,
      "provenance": [],
      "include_colab_link": true
    },
    "kernelspec": {
      "display_name": "Python 3",
      "name": "python3"
    }
  },
  "nbformat": 4,
  "nbformat_minor": 0
}