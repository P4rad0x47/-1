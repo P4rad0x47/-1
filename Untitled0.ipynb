{
  "nbformat": 4,
  "nbformat_minor": 0,
  "metadata": {
    "colab": {
      "provenance": [],
      "authorship_tag": "ABX9TyNzU1eVrmlgTn6y3YkPNoLN",
      "include_colab_link": true
    },
    "kernelspec": {
      "name": "python3",
      "display_name": "Python 3"
    },
    "language_info": {
      "name": "python"
    }
  },
  "cells": [
    {
      "cell_type": "markdown",
      "metadata": {
        "id": "view-in-github",
        "colab_type": "text"
      },
      "source": [
        "<a href=\"https://colab.research.google.com/github/P4rad0x47/-1/blob/main/Untitled0.ipynb\" target=\"_parent\"><img src=\"https://colab.research.google.com/assets/colab-badge.svg\" alt=\"Open In Colab\"/></a>"
      ]
    },
    {
      "cell_type": "code",
      "execution_count": 2,
      "metadata": {
        "colab": {
          "base_uri": "https://localhost:8080/"
        },
        "id": "n6ePaRt5Jwgb",
        "outputId": "464f34b5-6a23-404b-ad24-aa7794e8ca09"
      },
      "outputs": [
        {
          "output_type": "stream",
          "name": "stdout",
          "text": [
            "25.0\n"
          ]
        }
      ],
      "source": [
        "a = 5\n",
        "b = 10\n",
        "c = ((a*b)/ 2)\n",
        "print (c)"
      ]
    },
    {
      "cell_type": "code",
      "source": [
        "from random import  randint\n",
        "n=randint(100,1000)\n",
        "print(n)\n",
        "print( (n//100,n//10%10,n%10))"
      ],
      "metadata": {
        "colab": {
          "base_uri": "https://localhost:8080/"
        },
        "id": "WtfB70peMs-_",
        "outputId": "dcffffd5-fbff-4855-a2e9-19d0a9067912"
      },
      "execution_count": 4,
      "outputs": [
        {
          "output_type": "stream",
          "name": "stdout",
          "text": [
            "782\n",
            "(7, 8, 2)\n"
          ]
        }
      ]
    },
    {
      "cell_type": "code",
      "source": [
        "def convert_seconds(seconds):\n",
        "  hours = seconds // 3600\n",
        "  minutes = (seconds % 33670) // 60\n",
        "  remaining_seconds = seconds % 60\n",
        "  return f\"{hours}:{minutes}:{remaining_seconds}\"\n",
        "\n",
        "print(convert_seconds(33670))"
      ],
      "metadata": {
        "colab": {
          "base_uri": "https://localhost:8080/"
        },
        "id": "k20XEY5FP0Pw",
        "outputId": "cb5d720a-b311-4e89-94e0-53e760f243af"
      },
      "execution_count": 8,
      "outputs": [
        {
          "output_type": "stream",
          "name": "stdout",
          "text": [
            "9:0:10\n"
          ]
        }
      ]
    }
  ]
}