{
  "cells": [
    {
      "cell_type": "markdown",
      "metadata": {
        "id": "view-in-github",
        "colab_type": "text"
      },
      "source": [
        "<a href=\"https://colab.research.google.com/github/P4rad0x47/-1/blob/main/%D0%BF%D1%80%D0%B0%D0%BA%D1%82%D0%B8%D0%BA%D0%B0%206%20%20%D0%9A%D0%B0%D1%80%D1%8C%D0%B5%D0%B2%20%D0%94.ipynb\" target=\"_parent\"><img src=\"https://colab.research.google.com/assets/colab-badge.svg\" alt=\"Open In Colab\"/></a>"
      ]
    },
    {
      "cell_type": "markdown",
      "source": [
        "задача 1"
      ],
      "metadata": {
        "id": "0RNHWGnhVzh6"
      }
    },
    {
      "cell_type": "code",
      "source": [
        "print(\"число 1: \")\n",
        "n = int(input())\n",
        "print(\"число 2: \")\n",
        "m = int(input())\n",
        "print(\"сумма чисел с 1 числа до 2: \", sum(range(n, m)))"
      ],
      "metadata": {
        "colab": {
          "base_uri": "https://localhost:8080/"
        },
        "id": "eb-0SsAwQyAe",
        "outputId": "e11314cc-a235-44b7-df17-2a11567980c5"
      },
      "execution_count": null,
      "outputs": [
        {
          "output_type": "stream",
          "name": "stdout",
          "text": [
            "число 1: \n",
            "12\n",
            "число 2: \n",
            "89\n",
            "сумма чисел с 1 числа до 2:  3850\n"
          ]
        }
      ]
    },
    {
      "cell_type": "markdown",
      "source": [
        "задача 2"
      ],
      "metadata": {
        "id": "-sY-oTsDV5Wq"
      }
    },
    {
      "cell_type": "code",
      "source": [
        "print(\"число 1: \")\n",
        "n = int(input())\n",
        "print (\"чилсо 2: \")\n",
        "m = int(input())\n",
        "d = m + n\n",
        "while m != n:\n",
        "  print(d)\n",
        "  n = int(input())\n",
        "  m = int(input())\n",
        "  if m == n:\n",
        "    break\n",
        "print(\"пробуй заново\")"
      ],
      "metadata": {
        "colab": {
          "base_uri": "https://localhost:8080/"
        },
        "id": "Edd8t1VUVyA6",
        "outputId": "153155b7-a225-440e-8af5-bc9f07cc0b83"
      },
      "execution_count": null,
      "outputs": [
        {
          "output_type": "stream",
          "name": "stdout",
          "text": [
            "число 1: \n",
            "19\n",
            "чилсо 2: \n",
            "2\n",
            "21\n",
            "12\n",
            "12\n",
            "пробуй заново\n"
          ]
        }
      ]
    },
    {
      "cell_type": "markdown",
      "source": [
        "задача 3.1"
      ],
      "metadata": {
        "id": "hjg02iKbbeIy"
      }
    },
    {
      "cell_type": "code",
      "source": [
        "with open(\"/input.txt\", \"r\", encoding=\"utf-8\") as f:\n",
        "  data = f.readlines()\n",
        "sum( 1 for line in data)"
      ],
      "metadata": {
        "colab": {
          "base_uri": "https://localhost:8080/"
        },
        "id": "hfRoI_lAWpqS",
        "outputId": "8f8dd20e-52d9-439d-dd1e-fe2492a434d9"
      },
      "execution_count": null,
      "outputs": [
        {
          "output_type": "execute_result",
          "data": {
            "text/plain": [
              "2107"
            ]
          },
          "metadata": {},
          "execution_count": 30
        }
      ]
    },
    {
      "cell_type": "markdown",
      "source": [
        "задача 3.2"
      ],
      "metadata": {
        "id": "IXHJhm8JfMY2"
      }
    },
    {
      "cell_type": "code",
      "source": [
        "with open(\"/input.txt\", \"r\", encoding=\"utf-8\") as f:\n",
        "  data = f.readlines()\n",
        "sum( 1 for word in data)"
      ],
      "metadata": {
        "colab": {
          "base_uri": "https://localhost:8080/"
        },
        "id": "A7NGvwPDfLsH",
        "outputId": "5a924dc5-b3bf-4184-ad87-e86daca474aa"
      },
      "execution_count": null,
      "outputs": [
        {
          "output_type": "execute_result",
          "data": {
            "text/plain": [
              "2107"
            ]
          },
          "metadata": {},
          "execution_count": 32
        }
      ]
    }
  ],
  "metadata": {
    "colab": {
      "name": "Добро пожаловать в Colaboratory!",
      "toc_visible": true,
      "provenance": [],
      "include_colab_link": true
    },
    "kernelspec": {
      "display_name": "Python 3",
      "name": "python3"
    }
  },
  "nbformat": 4,
  "nbformat_minor": 0
}