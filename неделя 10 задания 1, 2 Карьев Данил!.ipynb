{
  "cells": [
    {
      "cell_type": "markdown",
      "metadata": {
        "id": "view-in-github",
        "colab_type": "text"
      },
      "source": [
        "<a href=\"https://colab.research.google.com/github/P4rad0x47/-1/blob/main/%D0%BD%D0%B5%D0%B4%D0%B5%D0%BB%D1%8F%2010%20%D0%B7%D0%B0%D0%B4%D0%B0%D0%BD%D0%B8%D1%8F%201%2C%202%20%D0%9A%D0%B0%D1%80%D1%8C%D0%B5%D0%B2%20%D0%94%D0%B0%D0%BD%D0%B8%D0%BB!.ipynb\" target=\"_parent\"><img src=\"https://colab.research.google.com/assets/colab-badge.svg\" alt=\"Open In Colab\"/></a>"
      ]
    },
    {
      "cell_type": "code",
      "source": [
        "counter = {}\n",
        "unique_values = []\n",
        "while True:\n",
        "    value = input(\"Введите число (или '0' для завершения): \")\n",
        "    if value == '0':\n",
        "        break\n",
        "    if value in counter:\n",
        "        counter[value] += 1\n",
        "    else:\n",
        "        counter[value] = 1\n",
        "        unique_values.append(value)\n",
        "print(\"Словарь частот значений:\", counter)\n",
        "print(\"Список уникальных значений:\", unique_values)"
      ],
      "metadata": {
        "colab": {
          "base_uri": "https://localhost:8080/"
        },
        "id": "ZFh64EStvHI8",
        "outputId": "2e4ea038-6ef8-437f-dbbf-ba1da5e5fd72"
      },
      "execution_count": 15,
      "outputs": [
        {
          "output_type": "stream",
          "name": "stdout",
          "text": [
            "Введите число (или '0' для завершения): 123\n",
            "Введите число (или '0' для завершения): 10\n",
            "Введите число (или '0' для завершения): 0\n",
            "Словарь частот значений: {'123': 1, '10': 1}\n",
            "Список уникальных значений: ['123', '10']\n"
          ]
        }
      ]
    },
    {
      "cell_type": "code",
      "source": [
        "phone_book = {}\n",
        "def add_entry():\n",
        "    name = input(\"Введите имя: \")\n",
        "    phone_number = input(\"Введите номер телефона: \")\n",
        "    if name in phone_book:\n",
        "        phone_book[name].append(phone_number)\n",
        "    else:\n",
        "        phone_book[name] = [phone_number]\n",
        "    print(f\"Запись для {name} добавлена.\")\n",
        "def get_phone_number():\n",
        "    name = input(\"Введите имя для поиска номера телефона: \")\n",
        "    if name in phone_book:\n",
        "        print(f\"Номера телефона для {name}: {', '.join(phone_book[name])}\")\n",
        "    else:\n",
        "        print(f\"Запись для {name} не найдена.\")\n",
        "def main():\n",
        "    while True:\n",
        "        command = input(\"Введите команду (add для добавления, who для поиска, exit для выхода): \")\n",
        "        if command == \"add\":\n",
        "            add_entry()\n",
        "        elif command == \"who\":\n",
        "            get_phone_number()\n",
        "        elif command == \"exit\":\n",
        "            print(\"Выход из программы.\")\n",
        "            break\n",
        "        else:\n",
        "            print(\"Неизвестная команда. Пожалуйста, введите 'add', 'who' или 'exit'.\")\n",
        "main()"
      ],
      "metadata": {
        "colab": {
          "base_uri": "https://localhost:8080/"
        },
        "id": "kJJcpAkHuFRY",
        "outputId": "803d77a1-95b9-4c57-8ac6-c658590d0f79"
      },
      "execution_count": 18,
      "outputs": [
        {
          "output_type": "stream",
          "name": "stdout",
          "text": [
            "Введите команду (add для добавления, who для поиска, exit для выхода): add\n",
            "Введите имя: илья мусолини\n",
            "Введите номер телефона: 89241035803\n",
            "Запись для илья мусолини добавлена.\n",
            "Введите команду (add для добавления, who для поиска, exit для выхода): add\n",
            "Введите имя: турбосвин\n",
            "Введите номер телефона: 89233848103\n",
            "Запись для турбосвин добавлена.\n",
            "Введите команду (add для добавления, who для поиска, exit для выхода): who\n",
            "Введите имя для поиска номера телефона: турбосвин\n",
            "Номера телефона для турбосвин: 89233848103\n",
            "Введите команду (add для добавления, who для поиска, exit для выхода): who\n",
            "Введите имя для поиска номера телефона: илья мусолини\n",
            "Номера телефона для илья мусолини: 89241035803\n",
            "Введите команду (add для добавления, who для поиска, exit для выхода): exit\n",
            "Выход из программы.\n"
          ]
        }
      ]
    }
  ],
  "metadata": {
    "colab": {
      "name": "Добро пожаловать в Colaboratory!",
      "toc_visible": true,
      "provenance": [],
      "include_colab_link": true
    },
    "kernelspec": {
      "display_name": "Python 3",
      "name": "python3"
    }
  },
  "nbformat": 4,
  "nbformat_minor": 0
}