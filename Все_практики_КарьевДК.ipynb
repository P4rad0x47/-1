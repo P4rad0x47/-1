{
  "nbformat": 4,
  "nbformat_minor": 0,
  "metadata": {
    "colab": {
      "provenance": [],
      "authorship_tag": "ABX9TyNADe+XJ0STckDtpZhb6SWQ",
      "include_colab_link": true
    },
    "kernelspec": {
      "name": "python3",
      "display_name": "Python 3"
    },
    "language_info": {
      "name": "python"
    }
  },
  "cells": [
    {
      "cell_type": "markdown",
      "metadata": {
        "id": "view-in-github",
        "colab_type": "text"
      },
      "source": [
        "<a href=\"https://colab.research.google.com/github/P4rad0x47/-1/blob/main/%D0%92%D1%81%D0%B5_%D0%BF%D1%80%D0%B0%D0%BA%D1%82%D0%B8%D0%BA%D0%B8_%D0%9A%D0%B0%D1%80%D1%8C%D0%B5%D0%B2%D0%94%D0%9A.ipynb\" target=\"_parent\"><img src=\"https://colab.research.google.com/assets/colab-badge.svg\" alt=\"Open In Colab\"/></a>"
      ]
    },
    {
      "cell_type": "markdown",
      "source": [
        "ПРАКТИКА 2"
      ],
      "metadata": {
        "id": "0AHw4qR_K7Mh"
      }
    },
    {
      "cell_type": "code",
      "execution_count": 1,
      "metadata": {
        "colab": {
          "base_uri": "https://localhost:8080/"
        },
        "id": "1gDenEtDKR8Q",
        "outputId": "6251c752-a79e-4f56-ba03-b8c756196deb"
      },
      "outputs": [
        {
          "output_type": "stream",
          "name": "stdout",
          "text": [
            "Введите длину стороны a: 10\n",
            "Введите длину стороны b: 4\n",
            "Площадь прямоугольного треугольника: 20.0\n"
          ]
        }
      ],
      "source": [
        "a = float(input(\"Введите длину стороны a: \"))\n",
        "b = float(input(\"Введите длину стороны b: \"))\n",
        "\n",
        "площадь = 0.5 * a * b\n",
        "\n",
        "print(\"Площадь прямоугольного треугольника:\", площадь)"
      ]
    },
    {
      "cell_type": "code",
      "source": [
        "число = int(input(\"Введите трехзначное число: \"))\n",
        "сотни = число // 100\n",
        "десятки = (число % 100) // 10\n",
        "единицы = число % 10\n",
        "print(\"Сотни:\", сотни)\n",
        "print(\"Десятки:\", десятки)\n",
        "print(\"Единицы:\", единицы)"
      ],
      "metadata": {
        "colab": {
          "base_uri": "https://localhost:8080/"
        },
        "id": "V6WwhoblK1wd",
        "outputId": "c7235176-5e71-41e7-d6b1-ab0e023a1978"
      },
      "execution_count": 2,
      "outputs": [
        {
          "output_type": "stream",
          "name": "stdout",
          "text": [
            "Введите трехзначное число: 924\n",
            "Сотни: 9\n",
            "Десятки: 2\n",
            "Единицы: 4\n"
          ]
        }
      ]
    },
    {
      "cell_type": "code",
      "source": [
        "n = int(input(\"Введите количество секунд: \"))\n",
        "часы = n // 3600\n",
        "n = n % 3600\n",
        "минуты = n // 60\n",
        "n = n % 60\n",
        "секунды = n\n",
        "print(f\"Сейчас {часы:02d}:{минуты:02d}:{секунды:02d}\")"
      ],
      "metadata": {
        "colab": {
          "base_uri": "https://localhost:8080/"
        },
        "id": "HgESDzGCNvuY",
        "outputId": "387c66a8-c798-4a2a-bc10-40f8c6b87566"
      },
      "execution_count": 3,
      "outputs": [
        {
          "output_type": "stream",
          "name": "stdout",
          "text": [
            "Введите количество секунд: 753843\n",
            "Сейчас 209:24:03\n"
          ]
        }
      ]
    },
    {
      "cell_type": "markdown",
      "source": [
        "ПРАКТИКА 3"
      ],
      "metadata": {
        "id": "3QWITmzROoWM"
      }
    },
    {
      "cell_type": "code",
      "source": [
        "symbols = input(\"Введите набор символов через запятую: \")\n",
        "parts = symbols.split(',')\n",
        "lengths = []\n",
        "for part in parts:\n",
        "  lengths.append(len(part))\n",
        "print(\",\".join(map(str,lengths)))"
      ],
      "metadata": {
        "colab": {
          "base_uri": "https://localhost:8080/"
        },
        "id": "IlG57j_IOqtN",
        "outputId": "f3bcea04-3b70-4b57-b35c-48cca1b85e06"
      },
      "execution_count": 4,
      "outputs": [
        {
          "output_type": "stream",
          "name": "stdout",
          "text": [
            "Введите набор символов через запятую: Ф, АА, ККК, ИИИИ\n",
            "1,3,4,5\n"
          ]
        }
      ]
    },
    {
      "cell_type": "code",
      "source": [
        "def split_string(stroka, n, m):\n",
        "    words = stroka.split()\n",
        "    first_array = []\n",
        "    second_array = []\n",
        "    current_index = 0\n",
        "    for word in words:\n",
        "        if current_index < n:\n",
        "           first_array.append(word)\n",
        "           current_index += len(word)+1\n",
        "        else:\n",
        "           break\n",
        "    current_index = 0\n",
        "    for word in words:\n",
        "      if current_index < m:\n",
        "        current_index += len(word)+1\n",
        "      else:\n",
        "        second_array.append(word)\n",
        "    return first_array, second_array\n",
        "stroka = \"Привет, мир\"\n",
        "n = 8\n",
        "m = 5\n",
        "first, second = split_string(stroka, n, m)\n",
        "print(\"Первый массив:\", first)\n",
        "print(\"Второй массив:\", second)"
      ],
      "metadata": {
        "colab": {
          "base_uri": "https://localhost:8080/"
        },
        "id": "cfThI19IRPxJ",
        "outputId": "f806cf90-c73c-45e0-f890-5a191d5cb2d8"
      },
      "execution_count": 6,
      "outputs": [
        {
          "output_type": "stream",
          "name": "stdout",
          "text": [
            "Первый массив: ['Привет,']\n",
            "Второй массив: ['мир']\n"
          ]
        }
      ]
    },
    {
      "cell_type": "markdown",
      "source": [
        "ПРАКТИКА 4"
      ],
      "metadata": {
        "id": "KjMsgbMbRmOj"
      }
    },
    {
      "cell_type": "code",
      "source": [
        "code = int(input(\"Введите код ошибки (400-405): \"))\n",
        "match code:\n",
        "    case 400:\n",
        "        print(\"Bad Request: Запрос некорректен.\")\n",
        "    case 401:\n",
        "        print(\"Unauthorized: Не авторизован.\")\n",
        "    case 402:\n",
        "        print(\"Payment Required: Требуется оплата.\")\n",
        "    case 403:\n",
        "        print(\"Forbidden: Доступ запрещен.\")\n",
        "    case 404:\n",
        "        print(\"Not Found: Страница не найдена.\")\n",
        "    case 405:\n",
        "        print(\"Method Not Allowed: Метод запроса не разрешен.\")\n",
        "    case _:\n",
        "        print(\"Код ошибки вне диапазона 400-405 или некорректный ввод.\")"
      ],
      "metadata": {
        "colab": {
          "base_uri": "https://localhost:8080/"
        },
        "id": "wrzOoDtzR4q-",
        "outputId": "41705de4-573f-4b15-bf46-2ed49ba244c5"
      },
      "execution_count": 7,
      "outputs": [
        {
          "output_type": "stream",
          "name": "stdout",
          "text": [
            "Введите код ошибки (400-405): 403\n",
            "Forbidden: Доступ запрещен.\n"
          ]
        }
      ]
    },
    {
      "cell_type": "code",
      "source": [
        "x = float(input(\"Введите координату x: \"))\n",
        "y = float(input(\"Введите координату y: \"))\n",
        "if x > 0 and y > 0:\n",
        "    print(\"Точка находится в первой четверти.\")\n",
        "elif x < 0 and y > 0:\n",
        "    print(\"Точка находится во второй четверти.\")\n",
        "elif x < 0 and y < 0:\n",
        "    print(\"Точка находится в третьей четверти.\")\n",
        "elif x > 0 and y < 0:\n",
        "    print(\"Точка находится в четвертой четверти.\")\n",
        "elif x == 0 and y == 0:\n",
        "    print(\"Точка находится в начале координат.\")\n",
        "elif x == 0:\n",
        "    print(\"Точка находится на оси Y.\")\n",
        "elif y == 0:\n",
        "    print(\"Точка находится на оси X.\")"
      ],
      "metadata": {
        "colab": {
          "base_uri": "https://localhost:8080/"
        },
        "id": "RfcEquvkS5lh",
        "outputId": "5f3e5200-f161-499b-bd0d-fd8528a6a185"
      },
      "execution_count": 8,
      "outputs": [
        {
          "output_type": "stream",
          "name": "stdout",
          "text": [
            "Введите координату x: 2 \n",
            "Введите координату y: -2\n",
            "Точка находится в четвертой четверти.\n"
          ]
        }
      ]
    },
    {
      "cell_type": "code",
      "source": [
        "year = int(input(\"Введите год: \"))\n",
        "if (year % 4 == 0 and year % 100 != 0) or (year % 400 == 0):\n",
        "    print(\"ДА\")\n",
        "else:\n",
        "    print(\"НЕТ\")"
      ],
      "metadata": {
        "colab": {
          "base_uri": "https://localhost:8080/"
        },
        "id": "qtmYSwgCTmQ9",
        "outputId": "b12dcff3-1afc-4c45-fe60-032744b8bc70"
      },
      "execution_count": 11,
      "outputs": [
        {
          "output_type": "stream",
          "name": "stdout",
          "text": [
            "Введите год: 1444\n",
            "ДА\n"
          ]
        }
      ]
    },
    {
      "cell_type": "markdown",
      "source": [
        "ПРАКТИКА 5"
      ],
      "metadata": {
        "id": "KTDtZny4WEKa"
      }
    },
    {
      "cell_type": "code",
      "source": [
        "n = int(input(\"Введите начальное число (n): \"))\n",
        "m = int(input(\"Введите конечное число (m): \"))\n",
        "sum = 0\n",
        "if n <= m:\n",
        "  for i in range(n, m + 1):\n",
        "      sum += i\n",
        "  print(\"Сумма чисел от\", n, \"до\", m, \"равна:\", sum)\n",
        "else:\n",
        "  print(\"Начальное число должно быть меньше или равно конечному.\")"
      ],
      "metadata": {
        "colab": {
          "base_uri": "https://localhost:8080/"
        },
        "id": "qunG6NCEWCvQ",
        "outputId": "e4e6c77c-5e31-48b0-bb7e-f556889deda0"
      },
      "execution_count": 12,
      "outputs": [
        {
          "output_type": "stream",
          "name": "stdout",
          "text": [
            "Введите начальное число (n): 123\n",
            "Введите конечное число (m): 678\n",
            "Сумма чисел от 123 до 678 равна: 222678\n"
          ]
        }
      ]
    },
    {
      "cell_type": "markdown",
      "source": [
        "https://github.com/P4rad0x47/-1/blob/main/практика%206%20%20Карьев%20Д.ipynb"
      ],
      "metadata": {
        "id": "dFcHt2YmZJpY"
      }
    },
    {
      "cell_type": "markdown",
      "source": [
        "ПРАКТИКА 6"
      ],
      "metadata": {
        "id": "qgRw2hMkZN2T"
      }
    },
    {
      "cell_type": "code",
      "source": [
        "numbers = []\n",
        "squares = []\n",
        "cubes = []\n",
        "for i in range(1, 11):\n",
        "    numbers.append(i)\n",
        "    squares.append(i**2)\n",
        "    cubes.append(i**3)\n",
        "print(\"Список чисел:\", numbers)\n",
        "print(\"Список квадратов:\", squares)\n",
        "print(\"Список кубов:\", cubes)"
      ],
      "metadata": {
        "colab": {
          "base_uri": "https://localhost:8080/"
        },
        "id": "mFaa40OIZlpR",
        "outputId": "850f37a6-875e-4593-b583-54c37955deb1"
      },
      "execution_count": 15,
      "outputs": [
        {
          "output_type": "stream",
          "name": "stdout",
          "text": [
            "Список чисел: [1, 2, 3, 4, 5, 6, 7, 8, 9, 10]\n",
            "Список квадратов: [1, 4, 9, 16, 25, 36, 49, 64, 81, 100]\n",
            "Список кубов: [1, 8, 27, 64, 125, 216, 343, 512, 729, 1000]\n"
          ]
        }
      ]
    },
    {
      "cell_type": "code",
      "source": [
        "numbers = []\n",
        "while True:\n",
        "    num = int(input(\"Введите число (0 для завершения): \"))\n",
        "    if num == 0:\n",
        "        break\n",
        "    numbers.append(num)\n",
        "if numbers:\n",
        "    print(\"1. Минимальное значение:\", min(numbers))\n",
        "    print(\"2. Максимальное значение:\", max(numbers))\n",
        "    print(\"3. Отсортированный по возрастанию список:\", sorted(numbers))\n",
        "    print(\"4. Отсортированный по убыванию список:\", sorted(numbers, reverse=True))\n",
        "    print(\"5. Количество элементов в списке:\", len(numbers))\n",
        "    print(\"6. Количество единиц в списке:\", numbers.count(1))\n",
        "    print(\"7. Сумма всех чисел:\" , sum(numbers))\n",
        "    print(\"8. Индекс последнего элемента:\", len(numbers) - 1, \"Значение:\", numbers[-1])\n",
        "else:\n",
        "    print(\"Список чисел пуст.\")"
      ],
      "metadata": {
        "colab": {
          "base_uri": "https://localhost:8080/",
          "height": 471
        },
        "id": "lTQbuB-zZpjh",
        "outputId": "2f80e15a-256d-4bf2-ad57-cada26eb8b15"
      },
      "execution_count": 26,
      "outputs": [
        {
          "output_type": "stream",
          "name": "stdout",
          "text": [
            "Введите число (0 для завершения): 843838\n",
            "Введите число (0 для завершения): 11\n",
            "Введите число (0 для завершения): 1\n",
            "Введите число (0 для завершения): 1\n",
            "Введите число (0 для завершения): 1\n",
            "Введите число (0 для завершения): 1\n",
            "Введите число (0 для завершения): 5\n",
            "Введите число (0 для завершения): 7\n",
            "Введите число (0 для завершения): 0\n",
            "1. Минимальное значение: 1\n",
            "2. Максимальное значение: 843838\n",
            "3. Отсортированный по возрастанию список: [1, 1, 1, 1, 5, 7, 11, 843838]\n",
            "4. Отсортированный по убыванию список: [843838, 11, 7, 5, 1, 1, 1, 1]\n",
            "5. Количество элементов в списке: 8\n",
            "6. Количество единиц в списке: 4\n"
          ]
        },
        {
          "output_type": "error",
          "ename": "TypeError",
          "evalue": "'int' object is not callable",
          "traceback": [
            "\u001b[0;31m---------------------------------------------------------------------------\u001b[0m",
            "\u001b[0;31mTypeError\u001b[0m                                 Traceback (most recent call last)",
            "\u001b[0;32m<ipython-input-26-c7d65f0ef015>\u001b[0m in \u001b[0;36m<cell line: 0>\u001b[0;34m()\u001b[0m\n\u001b[1;32m     12\u001b[0m     \u001b[0mprint\u001b[0m\u001b[0;34m(\u001b[0m\u001b[0;34m\"5. Количество элементов в списке:\"\u001b[0m\u001b[0;34m,\u001b[0m \u001b[0mlen\u001b[0m\u001b[0;34m(\u001b[0m\u001b[0mnumbers\u001b[0m\u001b[0;34m)\u001b[0m\u001b[0;34m)\u001b[0m\u001b[0;34m\u001b[0m\u001b[0;34m\u001b[0m\u001b[0m\n\u001b[1;32m     13\u001b[0m     \u001b[0mprint\u001b[0m\u001b[0;34m(\u001b[0m\u001b[0;34m\"6. Количество единиц в списке:\"\u001b[0m\u001b[0;34m,\u001b[0m \u001b[0mnumbers\u001b[0m\u001b[0;34m.\u001b[0m\u001b[0mcount\u001b[0m\u001b[0;34m(\u001b[0m\u001b[0;36m1\u001b[0m\u001b[0;34m)\u001b[0m\u001b[0;34m)\u001b[0m\u001b[0;34m\u001b[0m\u001b[0;34m\u001b[0m\u001b[0m\n\u001b[0;32m---> 14\u001b[0;31m     \u001b[0mprint\u001b[0m\u001b[0;34m(\u001b[0m\u001b[0;34m\"7. Сумма всех чисел:\"\u001b[0m \u001b[0;34m,\u001b[0m \u001b[0msum\u001b[0m\u001b[0;34m(\u001b[0m\u001b[0mnumbers\u001b[0m\u001b[0;34m)\u001b[0m\u001b[0;34m)\u001b[0m\u001b[0;34m\u001b[0m\u001b[0;34m\u001b[0m\u001b[0m\n\u001b[0m\u001b[1;32m     15\u001b[0m     \u001b[0mprint\u001b[0m\u001b[0;34m(\u001b[0m\u001b[0;34m\"8. Индекс последнего элемента:\"\u001b[0m\u001b[0;34m,\u001b[0m \u001b[0mlen\u001b[0m\u001b[0;34m(\u001b[0m\u001b[0mnumbers\u001b[0m\u001b[0;34m)\u001b[0m \u001b[0;34m-\u001b[0m \u001b[0;36m1\u001b[0m\u001b[0;34m,\u001b[0m \u001b[0;34m\"Значение:\"\u001b[0m\u001b[0;34m,\u001b[0m \u001b[0mnumbers\u001b[0m\u001b[0;34m[\u001b[0m\u001b[0;34m-\u001b[0m\u001b[0;36m1\u001b[0m\u001b[0;34m]\u001b[0m\u001b[0;34m)\u001b[0m\u001b[0;34m\u001b[0m\u001b[0;34m\u001b[0m\u001b[0m\n\u001b[1;32m     16\u001b[0m \u001b[0;32melse\u001b[0m\u001b[0;34m:\u001b[0m\u001b[0;34m\u001b[0m\u001b[0;34m\u001b[0m\u001b[0m\n",
            "\u001b[0;31mTypeError\u001b[0m: 'int' object is not callable"
          ]
        }
      ]
    },
    {
      "cell_type": "code",
      "source": [
        "numbers = []\n",
        "while True:\n",
        "    num = int(input(\"Введите число (0 для завершения): \"))\n",
        "    if num == 0:\n",
        "        break\n",
        "    if num % 2 == 0:\n",
        "        numbers.append(num)\n",
        "numbers = [num for num in numbers if num % 10 != 0]\n",
        "print(\"Итоговый список:\", numbers)"
      ],
      "metadata": {
        "colab": {
          "base_uri": "https://localhost:8080/"
        },
        "id": "GsWJub3Db0E6",
        "outputId": "9f4bf235-b469-4ce3-f1c2-7d782fe12ecf"
      },
      "execution_count": 27,
      "outputs": [
        {
          "output_type": "stream",
          "name": "stdout",
          "text": [
            "Введите число (0 для завершения): 2\n",
            "Введите число (0 для завершения): 1\n",
            "Введите число (0 для завершения): 5\n",
            "Введите число (0 для завершения): 7\n",
            "Введите число (0 для завершения): 6\n",
            "Введите число (0 для завершения): 8\n",
            "Введите число (0 для завершения): 88\n",
            "Введите число (0 для завершения): 10\n",
            "Введите число (0 для завершения): 54\n",
            "Введите число (0 для завершения): 30\n",
            "Введите число (0 для завершения): 0\n",
            "Итоговый список: [2, 6, 8, 88, 54]\n"
          ]
        }
      ]
    },
    {
      "cell_type": "markdown",
      "source": [
        "ПРАКТИКА 7"
      ],
      "metadata": {
        "id": "DTOLO2MAcsqk"
      }
    },
    {
      "cell_type": "code",
      "source": [
        "import numpy as np\n",
        "n = int(input(\"Введите размер матрицы (n): \"))\n",
        "matrix = np.arange(1, n**2 + 1).reshape(n, n)\n",
        "print(\"Матрица:\")\n",
        "print(matrix)\n",
        "determinant = np.linalg.det(matrix)\n",
        "print(\"\\nОпределитель матрицы:\", determinant)"
      ],
      "metadata": {
        "colab": {
          "base_uri": "https://localhost:8080/"
        },
        "id": "z11XraXRccwN",
        "outputId": "afc28a9f-e857-4fce-bbaf-940c907e8993"
      },
      "execution_count": 32,
      "outputs": [
        {
          "output_type": "stream",
          "name": "stdout",
          "text": [
            "Введите размер матрицы (n): 2\n",
            "Матрица:\n",
            "[[1 2]\n",
            " [3 4]]\n",
            "\n",
            "Определитель матрицы: -2.0000000000000004\n"
          ]
        }
      ]
    },
    {
      "cell_type": "code",
      "source": [
        "data = [\n",
        "    ['ФИО', 'Балл по программированию', 'Балл по ОБЖ', 'Балл по алгебре'],\n",
        "    ['Петров', '78', '93', '61'],\n",
        "    ['Иванов', '56', '67', '73'],\n",
        "    ['Сидорова', '81', '75', '70']\n",
        "]\n",
        "\n",
        "subjects = data[0][1:]\n",
        "students = data[1:]\n",
        "\n",
        "subject_averages = {}\n",
        "for i, subject in enumerate(subjects):\n",
        "    total_score = 0\n",
        "    for row in students:\n",
        "        total_score += int(row[i + 1])\n",
        "    subject_averages[subject] = total_score / len(students)\n",
        "\n",
        "best_subject = max(subject_averages, key=subject_averages.get)\n",
        "best_subject_avg = subject_averages[best_subject]\n",
        "\n",
        "print(f\"Самый высокий средний балл по предмету: {best_subject} - {best_subject_avg:.2f}\")"
      ],
      "metadata": {
        "colab": {
          "base_uri": "https://localhost:8080/"
        },
        "id": "RtMbiJWQgdV_",
        "outputId": "a4945327-e904-4ad3-cf9e-a0f3b80d1c36"
      },
      "execution_count": 37,
      "outputs": [
        {
          "output_type": "stream",
          "name": "stdout",
          "text": [
            "Самый высокий средний балл по предмету: Балл по ОБЖ - 78.33\n"
          ]
        }
      ]
    },
    {
      "cell_type": "markdown",
      "source": [
        "ПРАКТИКА 9"
      ],
      "metadata": {
        "id": "D58WXr9Ng21Y"
      }
    },
    {
      "cell_type": "markdown",
      "source": [
        "https://github.com/P4rad0x47/-1/blob/main/неделя%2010%20задания%201%2C%202%20Карьев%20Данил!.ipynb"
      ],
      "metadata": {
        "id": "wdn4z6EjiEyW"
      }
    },
    {
      "cell_type": "markdown",
      "source": [
        "ПРАКТИКА 10"
      ],
      "metadata": {
        "id": "dodudcgjiF0Q"
      }
    },
    {
      "cell_type": "code",
      "source": [
        "def sum_numbers():\n",
        "  total = 0\n",
        "  while True:\n",
        "    try:\n",
        "      num = int(input(\"Введите число (0 для завершения): \"))\n",
        "      if num == 0:\n",
        "        break\n",
        "      total += num\n",
        "    except ValueError:\n",
        "      print(\"Некорректный ввод. Пожалуйста, введите целое число.\")\n",
        "  return total\n",
        "\n",
        "print(f\"Сумма введенных чисел: {sum_numbers()}\")"
      ],
      "metadata": {
        "colab": {
          "base_uri": "https://localhost:8080/"
        },
        "id": "IjyVJyzViM3P",
        "outputId": "d56f116c-3c93-4fa7-f436-1e3bdb5c3877"
      },
      "execution_count": 43,
      "outputs": [
        {
          "output_type": "stream",
          "name": "stdout",
          "text": [
            "Введите число (0 для завершения): 123\n",
            "Введите число (0 для завершения): 2\n",
            "Введите число (0 для завершения): 545\n",
            "Введите число (0 для завершения): 0\n",
            "Сумма введенных чисел: 670\n"
          ]
        }
      ]
    },
    {
      "cell_type": "code",
      "source": [
        "phone_book = {}\n",
        "def get_phone_numbers_sorted():\n",
        "    return sorted(phone_book.values())\n",
        "def get_names_sorted():\n",
        "    return sorted(phone_book.keys())\n",
        "while True:\n",
        "    name = input(\"Введите имя (или 0 для завершения): \")\n",
        "    if name == \"0\":\n",
        "        break\n",
        "    phone = input(\"Введите номер телефона (или 0 для завершения): \")\n",
        "    if phone == \"0\":\n",
        "      break\n",
        "    phone_book[name] = phone\n",
        "print(\"Номера телефонов в порядке возрастания:\", get_phone_numbers_sorted())\n",
        "print(\"Имена в порядке возрастания:\", get_names_sorted())"
      ],
      "metadata": {
        "colab": {
          "base_uri": "https://localhost:8080/"
        },
        "id": "lb6cGcKHipVu",
        "outputId": "be5461f2-0025-4cf8-89a8-5925b9c65677"
      },
      "execution_count": 45,
      "outputs": [
        {
          "output_type": "stream",
          "name": "stdout",
          "text": [
            "Введите имя (или 0 для завершения): данил\n",
            "Введите номер телефона (или 0 для завершения): 89502973544\n",
            "Введите имя (или 0 для завершения): кирилл\n",
            "Введите номер телефона (или 0 для завершения): 89347547422\n",
            "Введите имя (или 0 для завершения): олег\n",
            "Введите номер телефона (или 0 для завершения): 89143273284\n",
            "Введите имя (или 0 для завершения): 0\n",
            "Номера телефонов в порядке возрастания: ['89143273284', '89347547422', '89502973544']\n",
            "Имена в порядке возрастания: ['данил', 'кирилл', 'олег']\n"
          ]
        }
      ]
    }
  ]
}