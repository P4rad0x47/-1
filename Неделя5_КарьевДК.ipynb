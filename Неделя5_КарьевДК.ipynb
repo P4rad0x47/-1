{
  "nbformat": 4,
  "nbformat_minor": 0,
  "metadata": {
    "colab": {
      "provenance": [],
      "authorship_tag": "ABX9TyNJtVOoepkdMz944Sdm9iEA",
      "include_colab_link": true
    },
    "kernelspec": {
      "name": "python3",
      "display_name": "Python 3"
    },
    "language_info": {
      "name": "python"
    }
  },
  "cells": [
    {
      "cell_type": "markdown",
      "metadata": {
        "id": "view-in-github",
        "colab_type": "text"
      },
      "source": [
        "<a href=\"https://colab.research.google.com/github/P4rad0x47/-1/blob/main/%D0%9D%D0%B5%D0%B4%D0%B5%D0%BB%D1%8F5_%D0%9A%D0%B0%D1%80%D1%8C%D0%B5%D0%B2%D0%94%D0%9A.ipynb\" target=\"_parent\"><img src=\"https://colab.research.google.com/assets/colab-badge.svg\" alt=\"Open In Colab\"/></a>"
      ]
    },
    {
      "cell_type": "markdown",
      "source": [
        "задача 1"
      ],
      "metadata": {
        "id": "txFsEbVs-SS9"
      }
    },
    {
      "cell_type": "code",
      "execution_count": null,
      "metadata": {
        "colab": {
          "base_uri": "https://localhost:8080/"
        },
        "id": "oxWcCiyV9jN4",
        "outputId": "66e31fc1-ed92-4186-ce9e-bf853e7a4a0f"
      },
      "outputs": [
        {
          "output_type": "stream",
          "name": "stdout",
          "text": [
            "1 2 3 2 3 2 3 4 5 6 4 7\n",
            "NO\n",
            "NO\n",
            "NO\n",
            "YES\n",
            "YES\n",
            "YES\n",
            "YES\n",
            "NO\n",
            "NO\n",
            "NO\n",
            "YES\n",
            "NO\n"
          ]
        }
      ],
      "source": [
        "data = input().split()\n",
        "cur_set = set()\n",
        "for item in data:\n",
        "    if item in cur_set:\n",
        "        print('YES')\n",
        "    else:\n",
        "        print('NO')\n",
        "    cur_set.add(item)\n"
      ]
    },
    {
      "cell_type": "markdown",
      "source": [
        "задача 2"
      ],
      "metadata": {
        "id": "n__Foa0r-ZZO"
      }
    },
    {
      "cell_type": "code",
      "source": [
        "from collections import deque\n",
        "\n",
        "def solve():\n",
        "    n = int(input())\n",
        "    m = int(input())\n",
        "    lines = []\n",
        "    for _ in range(m):\n",
        "        line_data = list(map(int, input().split()))\n",
        "        lines.append(line_data[1:])\n",
        "    start_station, end_station = map(int, input().split())\n",
        "\n",
        "    station_to_lines = {i: [] for i in range(1, n + 1)}\n",
        "    for line_index, line in enumerate(lines):\n",
        "        for station in line:\n",
        "            station_to_lines[station].append(line_index)\n",
        "\n",
        "    queue = deque([(start_station, 0)])\n",
        "    visited = {start_station}\n",
        "\n",
        "    while queue:\n",
        "        current_station, transfers = queue.popleft()\n",
        "\n",
        "        if current_station == end_station:\n",
        "            return transfers\n",
        "\n",
        "        for line_index in station_to_lines[current_station]:\n",
        "            line = lines[line_index]\n",
        "\n",
        "            current_station_index = line.index(current_station)\n",
        "\n",
        "            for next_station_index in range(len(line)):\n",
        "                if next_station_index != current_station_index:\n",
        "                    next_station = line[next_station_index]\n",
        "                    if next_station not in visited:\n",
        "                        queue.append((next_station, transfers + 1))\n",
        "                        visited.add(next_station)\n",
        "\n",
        "    return -1\n",
        "\n",
        "result = solve()\n",
        "print(result)"
      ],
      "metadata": {
        "colab": {
          "base_uri": "https://localhost:8080/"
        },
        "id": "oHTFC8Z3BYNC",
        "outputId": "ab74c40c-2353-4d60-c089-36186739595c"
      },
      "execution_count": null,
      "outputs": [
        {
          "output_type": "stream",
          "name": "stdout",
          "text": [
            "5\n",
            "2\n",
            "3 1 2 3\n",
            "4 3 4 5 2 \n",
            "5 3 \n",
            "1\n"
          ]
        }
      ]
    },
    {
      "cell_type": "markdown",
      "source": [
        "задача 3.1"
      ],
      "metadata": {
        "id": "96ia3zEVBtze"
      }
    },
    {
      "cell_type": "code",
      "source": [
        "def solve():\n",
        "    n = int(input())\n",
        "    countries = {}\n",
        "    for _ in range(n):\n",
        "        line = input().split()\n",
        "        country_name = line[0]\n",
        "        cities = line[1:]\n",
        "        countries[country_name] = cities\n",
        "\n",
        "    m = int(input())\n",
        "    queries = []\n",
        "    for _ in range(m):\n",
        "        queries.append(input())\n",
        "\n",
        "    for city in queries:\n",
        "        found_country = False\n",
        "        for country_name, cities in countries.items():\n",
        "            if city in cities:\n",
        "                print(country_name)\n",
        "                found_country = True\n",
        "                break\n",
        "        if not found_country:\n",
        "            print(\"Город не найден\")\n",
        "\n",
        "\n",
        "solve()"
      ],
      "metadata": {
        "colab": {
          "base_uri": "https://localhost:8080/"
        },
        "id": "_0E8ioEyBwGd",
        "outputId": "a448156d-adab-4438-def4-67fcd648fb85"
      },
      "execution_count": null,
      "outputs": [
        {
          "output_type": "stream",
          "name": "stdout",
          "text": [
            "3\n",
            "Россия Москва Владивосток Артём\n",
            "США Бостон Нью-Йорк Вашингтон \n",
            "Япония Токио Киото Осака\n",
            "3 \n",
            "Москва\n",
            "Париж\n",
            "Киото\n",
            "Россия\n",
            "Город не найден\n",
            "Япония\n"
          ]
        }
      ]
    },
    {
      "cell_type": "markdown",
      "source": [
        "задача 3.2"
      ],
      "metadata": {
        "id": "1uW3oedrgDlG"
      }
    },
    {
      "cell_type": "code",
      "source": [
        "def solve():\n",
        "    candidates = {}\n",
        "\n",
        "    while True:\n",
        "        try:\n",
        "            line = input().split()\n",
        "            if not line:\n",
        "                break\n",
        "            candidate, votes = line\n",
        "            votes = int(votes)\n",
        "\n",
        "            if candidate not in candidates:\n",
        "                candidates[candidate] = 0\n",
        "            candidates[candidate] += votes\n",
        "\n",
        "        except EOFError:\n",
        "            break\n",
        "\n",
        "    sorted_candidates = sorted(candidates.keys())\n",
        "    for candidate in sorted_candidates:\n",
        "        print(candidate, candidates[candidate])\n",
        "\n",
        "solve()"
      ],
      "metadata": {
        "colab": {
          "base_uri": "https://localhost:8080/"
        },
        "id": "_bq8DqqMgIyV",
        "outputId": "b9d5a8f7-cec5-4acb-8867-287cfdaac095"
      },
      "execution_count": 29,
      "outputs": [
        {
          "output_type": "stream",
          "name": "stdout",
          "text": [
            "Стив 23\n",
            "Андерсон 45\n",
            "Джонсон 13\n",
            "Стив 61\n",
            "Андерсон 42\n",
            "\n",
            "Андерсон 87\n",
            "Джонсон 13\n",
            "Стив 84\n"
          ]
        }
      ]
    },
    {
      "cell_type": "markdown",
      "source": [
        "задача 4"
      ],
      "metadata": {
        "id": "KjDBOtWqNckS"
      }
    },
    {
      "cell_type": "code",
      "source": [
        "from collections import defaultdict\n",
        "\n",
        "def solve():\n",
        "    text = input().lower()\n",
        "    words = text.split()\n",
        "    word_counts = defaultdict(int)\n",
        "    for word in words:\n",
        "        word_counts[word] += 1\n",
        "\n",
        "    word_list = list(word_counts.items())\n",
        "\n",
        "    word_list.sort(key=lambda item: (-item[1], item[0]))\n",
        "\n",
        "    for word, count in word_list:\n",
        "        print(word)\n",
        "\n",
        "\n",
        "solve()"
      ],
      "metadata": {
        "colab": {
          "base_uri": "https://localhost:8080/"
        },
        "id": "bxSK7vVANh8B",
        "outputId": "43218781-c665-4768-cd24-a564b24b0307"
      },
      "execution_count": 9,
      "outputs": [
        {
          "output_type": "stream",
          "name": "stdout",
          "text": [
            "Иногда я смотрю в зеркало и вижу существо, неповторимое в природе, столь идеальное, что иногда на ум приходит мысль, правда ли столь идеальное существо жить в нашем мире. Однако порой смотря в зеркало, я не вижу ни что иное как пустое место, способное лишь на разговоры.\n",
            "в\n",
            "вижу\n",
            "иногда\n",
            "на\n",
            "столь\n",
            "что\n",
            "я\n",
            "жить\n",
            "зеркало\n",
            "зеркало,\n",
            "и\n",
            "идеальное\n",
            "идеальное,\n",
            "иное\n",
            "как\n",
            "ли\n",
            "лишь\n",
            "место,\n",
            "мире.\n",
            "мысль,\n",
            "нашем\n",
            "не\n",
            "неповторимое\n",
            "ни\n",
            "однако\n",
            "порой\n",
            "правда\n",
            "природе,\n",
            "приходит\n",
            "пустое\n",
            "разговоры.\n",
            "смотрю\n",
            "смотря\n",
            "способное\n",
            "существо\n",
            "существо,\n",
            "ум\n"
          ]
        }
      ]
    },
    {
      "cell_type": "markdown",
      "source": [
        "задача 5"
      ],
      "metadata": {
        "id": "B4qdKElDPovb"
      }
    },
    {
      "cell_type": "code",
      "source": [
        "def solve():\n",
        "    accounts = {}\n",
        "\n",
        "    while True:\n",
        "        try:\n",
        "            line = input().split()\n",
        "            command = line[0]\n",
        "\n",
        "            if command == \"DEPOSIT\":\n",
        "                name = line[1]\n",
        "                sum_amount = int(line[2])\n",
        "                if name not in accounts:\n",
        "                    accounts[name] = 0\n",
        "                accounts[name] += sum_amount\n",
        "\n",
        "            elif command == \"WITHDRAW\":\n",
        "                name = line[1]\n",
        "                sum_amount = int(line[2])\n",
        "                if name not in accounts:\n",
        "                    accounts[name] = 0\n",
        "                accounts[name] -= sum_amount\n",
        "\n",
        "            elif command == \"BALANCE\":\n",
        "                name = line[1]\n",
        "                if name in accounts:\n",
        "                    print(accounts[name])\n",
        "                else:\n",
        "                    print(\"ERROR\")\n",
        "\n",
        "            elif command == \"TRANSFER\":\n",
        "                name1 = line[1]\n",
        "                name2 = line[2]\n",
        "                sum_amount = int(line[3])\n",
        "                if name1 not in accounts:\n",
        "                    accounts[name1] = 0\n",
        "                if name2 not in accounts:\n",
        "                    accounts[name2] = 0\n",
        "                accounts[name1] -= sum_amount\n",
        "                accounts[name2] += sum_amount\n",
        "\n",
        "            elif command == \"INCOME\":\n",
        "                percentage = int(line[1])\n",
        "                for name, balance in accounts.items():\n",
        "                    if balance > 0:\n",
        "                        income = int(balance * (percentage / 100))\n",
        "                        accounts[name] += income\n",
        "        except EOFError:\n",
        "            break\n",
        "\n",
        "\n",
        "solve()"
      ],
      "metadata": {
        "colab": {
          "base_uri": "https://localhost:8080/",
          "height": 599
        },
        "id": "LKhPos9TPqSJ",
        "outputId": "edf91548-ea74-4a12-a7e1-2db7bdcf6f69"
      },
      "execution_count": 10,
      "outputs": [
        {
          "output_type": "stream",
          "name": "stdout",
          "text": [
            "DEPOSIT ДАНИЛ 50678\n",
            "WITHDRAW ДАНИЛ 5000\n",
            "BALANCE ДАНИЛ\n",
            "45678\n",
            "TRANSFER ДАНИЛ МАМА 10000\n",
            "BALANCE ДАНИЛ \n",
            "35678\n",
            "BALANCE МАМА\n",
            "10000\n",
            "INCOME 6000\n",
            "BALANCE ДАНИЛ\n",
            "2176358\n",
            "BALANCE МАМА\n",
            "610000\n",
            "BALANCE РОМА\n",
            "ERROR\n"
          ]
        },
        {
          "output_type": "error",
          "ename": "KeyboardInterrupt",
          "evalue": "Interrupted by user",
          "traceback": [
            "\u001b[0;31m---------------------------------------------------------------------------\u001b[0m",
            "\u001b[0;31mKeyboardInterrupt\u001b[0m                         Traceback (most recent call last)",
            "\u001b[0;32m<ipython-input-10-c0885026c0aa>\u001b[0m in \u001b[0;36m<cell line: 51>\u001b[0;34m()\u001b[0m\n\u001b[1;32m     49\u001b[0m \u001b[0;34m\u001b[0m\u001b[0m\n\u001b[1;32m     50\u001b[0m \u001b[0;34m\u001b[0m\u001b[0m\n\u001b[0;32m---> 51\u001b[0;31m \u001b[0msolve\u001b[0m\u001b[0;34m(\u001b[0m\u001b[0;34m)\u001b[0m\u001b[0;34m\u001b[0m\u001b[0;34m\u001b[0m\u001b[0m\n\u001b[0m",
            "\u001b[0;32m<ipython-input-10-c0885026c0aa>\u001b[0m in \u001b[0;36msolve\u001b[0;34m()\u001b[0m\n\u001b[1;32m      4\u001b[0m     \u001b[0;32mwhile\u001b[0m \u001b[0;32mTrue\u001b[0m\u001b[0;34m:\u001b[0m\u001b[0;34m\u001b[0m\u001b[0;34m\u001b[0m\u001b[0m\n\u001b[1;32m      5\u001b[0m         \u001b[0;32mtry\u001b[0m\u001b[0;34m:\u001b[0m\u001b[0;34m\u001b[0m\u001b[0;34m\u001b[0m\u001b[0m\n\u001b[0;32m----> 6\u001b[0;31m             \u001b[0mline\u001b[0m \u001b[0;34m=\u001b[0m \u001b[0minput\u001b[0m\u001b[0;34m(\u001b[0m\u001b[0;34m)\u001b[0m\u001b[0;34m.\u001b[0m\u001b[0msplit\u001b[0m\u001b[0;34m(\u001b[0m\u001b[0;34m)\u001b[0m\u001b[0;34m\u001b[0m\u001b[0;34m\u001b[0m\u001b[0m\n\u001b[0m\u001b[1;32m      7\u001b[0m             \u001b[0mcommand\u001b[0m \u001b[0;34m=\u001b[0m \u001b[0mline\u001b[0m\u001b[0;34m[\u001b[0m\u001b[0;36m0\u001b[0m\u001b[0;34m]\u001b[0m\u001b[0;34m\u001b[0m\u001b[0;34m\u001b[0m\u001b[0m\n\u001b[1;32m      8\u001b[0m \u001b[0;34m\u001b[0m\u001b[0m\n",
            "\u001b[0;32m/usr/local/lib/python3.10/dist-packages/ipykernel/kernelbase.py\u001b[0m in \u001b[0;36mraw_input\u001b[0;34m(self, prompt)\u001b[0m\n\u001b[1;32m    849\u001b[0m                 \u001b[0;34m\"raw_input was called, but this frontend does not support input requests.\"\u001b[0m\u001b[0;34m\u001b[0m\u001b[0;34m\u001b[0m\u001b[0m\n\u001b[1;32m    850\u001b[0m             )\n\u001b[0;32m--> 851\u001b[0;31m         return self._input_request(str(prompt),\n\u001b[0m\u001b[1;32m    852\u001b[0m             \u001b[0mself\u001b[0m\u001b[0;34m.\u001b[0m\u001b[0m_parent_ident\u001b[0m\u001b[0;34m,\u001b[0m\u001b[0;34m\u001b[0m\u001b[0;34m\u001b[0m\u001b[0m\n\u001b[1;32m    853\u001b[0m             \u001b[0mself\u001b[0m\u001b[0;34m.\u001b[0m\u001b[0m_parent_header\u001b[0m\u001b[0;34m,\u001b[0m\u001b[0;34m\u001b[0m\u001b[0;34m\u001b[0m\u001b[0m\n",
            "\u001b[0;32m/usr/local/lib/python3.10/dist-packages/ipykernel/kernelbase.py\u001b[0m in \u001b[0;36m_input_request\u001b[0;34m(self, prompt, ident, parent, password)\u001b[0m\n\u001b[1;32m    893\u001b[0m             \u001b[0;32mexcept\u001b[0m \u001b[0mKeyboardInterrupt\u001b[0m\u001b[0;34m:\u001b[0m\u001b[0;34m\u001b[0m\u001b[0;34m\u001b[0m\u001b[0m\n\u001b[1;32m    894\u001b[0m                 \u001b[0;31m# re-raise KeyboardInterrupt, to truncate traceback\u001b[0m\u001b[0;34m\u001b[0m\u001b[0;34m\u001b[0m\u001b[0m\n\u001b[0;32m--> 895\u001b[0;31m                 \u001b[0;32mraise\u001b[0m \u001b[0mKeyboardInterrupt\u001b[0m\u001b[0;34m(\u001b[0m\u001b[0;34m\"Interrupted by user\"\u001b[0m\u001b[0;34m)\u001b[0m \u001b[0;32mfrom\u001b[0m \u001b[0;32mNone\u001b[0m\u001b[0;34m\u001b[0m\u001b[0;34m\u001b[0m\u001b[0m\n\u001b[0m\u001b[1;32m    896\u001b[0m             \u001b[0;32mexcept\u001b[0m \u001b[0mException\u001b[0m \u001b[0;32mas\u001b[0m \u001b[0me\u001b[0m\u001b[0;34m:\u001b[0m\u001b[0;34m\u001b[0m\u001b[0;34m\u001b[0m\u001b[0m\n\u001b[1;32m    897\u001b[0m                 \u001b[0mself\u001b[0m\u001b[0;34m.\u001b[0m\u001b[0mlog\u001b[0m\u001b[0;34m.\u001b[0m\u001b[0mwarning\u001b[0m\u001b[0;34m(\u001b[0m\u001b[0;34m\"Invalid Message:\"\u001b[0m\u001b[0;34m,\u001b[0m \u001b[0mexc_info\u001b[0m\u001b[0;34m=\u001b[0m\u001b[0;32mTrue\u001b[0m\u001b[0;34m)\u001b[0m\u001b[0;34m\u001b[0m\u001b[0;34m\u001b[0m\u001b[0m\n",
            "\u001b[0;31mKeyboardInterrupt\u001b[0m: Interrupted by user"
          ]
        }
      ]
    },
    {
      "cell_type": "markdown",
      "source": [
        "задача 6"
      ],
      "metadata": {
        "id": "Ns06CAHhRzUc"
      }
    },
    {
      "cell_type": "code",
      "source": [
        "def solve():\n",
        "    n, m, x, y = map(int, input().split())\n",
        "\n",
        "    matrix = [[0 for _ in range(m)] for _ in range(n)]\n",
        "\n",
        "    k = 0\n",
        "    for i in range(n):\n",
        "        if i % 2 == 0:\n",
        "            for j in range(m):\n",
        "                matrix[i][j] = k\n",
        "                k += 1\n",
        "        else:\n",
        "            for j in range(m - 1, -1, -1):\n",
        "                matrix[i][j] = k\n",
        "                k += 1\n",
        "\n",
        "    print(matrix[x - 1][y - 1])\n",
        "\n",
        "\n",
        "solve()"
      ],
      "metadata": {
        "colab": {
          "base_uri": "https://localhost:8080/"
        },
        "id": "O5352BIHR18o",
        "outputId": "d7975e75-6931-41cc-bb47-9fb781002f86"
      },
      "execution_count": 17,
      "outputs": [
        {
          "output_type": "stream",
          "name": "stdout",
          "text": [
            "4 5 2 4\n",
            "6\n"
          ]
        }
      ]
    },
    {
      "cell_type": "markdown",
      "source": [
        "задача 7"
      ],
      "metadata": {
        "id": "Fe8w9ipWS1Gq"
      }
    },
    {
      "cell_type": "code",
      "source": [
        "def solve():\n",
        "    n = int(input())\n",
        "    pasture = []\n",
        "    for _ in range(n):\n",
        "        row = list(map(int, input().split()))\n",
        "        pasture.append(row)\n",
        "\n",
        "    row = n - 1\n",
        "    col = 0\n",
        "    total_calories = pasture[row][col]\n",
        "\n",
        "    while row > 0 or col < n - 1:\n",
        "        if row == 0:\n",
        "            col += 1\n",
        "        elif col == n - 1:\n",
        "            row -= 1\n",
        "        elif pasture[row - 1][col] > pasture[row][col + 1]:\n",
        "             row -= 1\n",
        "        else:\n",
        "            col += 1\n",
        "        total_calories += pasture[row][col]\n",
        "\n",
        "    print(total_calories)\n",
        "\n",
        "solve()"
      ],
      "metadata": {
        "colab": {
          "base_uri": "https://localhost:8080/"
        },
        "id": "_hENcb6lS01j",
        "outputId": "0d98c4c1-226f-4247-9d91-c98f72c48e64"
      },
      "execution_count": 21,
      "outputs": [
        {
          "output_type": "stream",
          "name": "stdout",
          "text": [
            "3 \n",
            "1 4 5\n",
            "2 5 6\n",
            "2 4 5\n",
            "22\n"
          ]
        }
      ]
    },
    {
      "cell_type": "markdown",
      "source": [
        "задача 8"
      ],
      "metadata": {
        "id": "8tO52alETrOt"
      }
    },
    {
      "cell_type": "code",
      "source": [
        "def solve():\n",
        "    x = int(input())\n",
        "    n = int(input())\n",
        "    matrix = []\n",
        "\n",
        "    for _ in range(n):\n",
        "        row = list(map(int, input().split()))\n",
        "        matrix.append(row)\n",
        "\n",
        "    for col in range(n):\n",
        "        is_good_column = False\n",
        "        for row in range(n):\n",
        "            if matrix[row][col] == x:\n",
        "                is_good_column = True\n",
        "                break\n",
        "        if is_good_column:\n",
        "            print(\"YES\")\n",
        "        else:\n",
        "            print(\"NO\")\n",
        "\n",
        "solve()"
      ],
      "metadata": {
        "colab": {
          "base_uri": "https://localhost:8080/"
        },
        "id": "RAkTnvnKTs1V",
        "outputId": "7cdcdbe6-85eb-4a93-b4f9-d8bece886d69"
      },
      "execution_count": 23,
      "outputs": [
        {
          "output_type": "stream",
          "name": "stdout",
          "text": [
            "1 \n",
            "3\n",
            "5 1 7 \n",
            "3 2 6\n",
            "8 6 1\n",
            "NO\n",
            "YES\n",
            "YES\n"
          ]
        }
      ]
    },
    {
      "cell_type": "markdown",
      "source": [
        "задача 9\n"
      ],
      "metadata": {
        "id": "CFVYFEZJc5EO"
      }
    },
    {
      "cell_type": "code",
      "source": [
        "def solve():\n",
        "    purchases = {}\n",
        "\n",
        "    while True:\n",
        "        try:\n",
        "            line = input().split()\n",
        "            if not line:\n",
        "                break\n",
        "            buyer, item, quantity = line\n",
        "            quantity = int(quantity)\n",
        "\n",
        "            if buyer not in purchases:\n",
        "                purchases[buyer] = {}\n",
        "            if item not in purchases[buyer]:\n",
        "                purchases[buyer][item] = 0\n",
        "            purchases[buyer][item] += quantity\n",
        "\n",
        "        except EOFError:\n",
        "            break\n",
        "\n",
        "    sorted_buyers = sorted(purchases.keys())\n",
        "\n",
        "    for buyer in sorted_buyers:\n",
        "        print(buyer + \":\")\n",
        "        sorted_items = sorted(purchases[buyer].keys())\n",
        "\n",
        "        for item in sorted_items:\n",
        "            print(item, purchases[buyer][item])\n",
        "solve()"
      ],
      "metadata": {
        "colab": {
          "base_uri": "https://localhost:8080/"
        },
        "id": "BGpye6d4c7E4",
        "outputId": "ac35d588-21fc-4de4-c8b6-3bea3e89d319"
      },
      "execution_count": 25,
      "outputs": [
        {
          "output_type": "stream",
          "name": "stdout",
          "text": [
            "Данил хлеб 5 \n",
            "рома пакет 2\n",
            "данил вода 4\n",
            "рома хлеб 1 \n",
            "рома вода 3\n",
            "\n",
            "Данил:\n",
            "хлеб 5\n",
            "данил:\n",
            "вода 4\n",
            "рома:\n",
            "вода 3\n",
            "пакет 2\n",
            "хлеб 1\n"
          ]
        }
      ]
    },
    {
      "cell_type": "markdown",
      "source": [
        "задача 10"
      ],
      "metadata": {
        "id": "j96Gsy33eqtZ"
      }
    },
    {
      "cell_type": "code",
      "source": [
        "def solve():\n",
        "    n = int(input())\n",
        "    file_permissions = {}\n",
        "\n",
        "    for _ in range(n):\n",
        "        line = input().split()\n",
        "        filename = line[0]\n",
        "        permissions = \"\".join(line[1:])\n",
        "        file_permissions[filename] = permissions\n",
        "\n",
        "    m = int(input())\n",
        "\n",
        "    for _ in range(m):\n",
        "        line = input().split()\n",
        "        operation = line[0]\n",
        "        filename = line[1]\n",
        "\n",
        "        if filename not in file_permissions:\n",
        "          print(\"Access denied\")\n",
        "          continue\n",
        "\n",
        "        allowed_chars = file_permissions[filename]\n",
        "\n",
        "        if operation == \"read\" and 'R' in allowed_chars:\n",
        "            print(\"OK\")\n",
        "        elif operation == \"write\" and 'W' in allowed_chars:\n",
        "            print(\"OK\")\n",
        "        elif operation == \"execute\" and 'X' in allowed_chars:\n",
        "            print(\"OK\")\n",
        "        else:\n",
        "            print(\"Access denied\")\n",
        "solve()"
      ],
      "metadata": {
        "colab": {
          "base_uri": "https://localhost:8080/"
        },
        "id": "TCNT257QesH0",
        "outputId": "3a111c53-908a-4859-887d-0a1c02580756"
      },
      "execution_count": 27,
      "outputs": [
        {
          "output_type": "stream",
          "name": "stdout",
          "text": [
            "4\n",
            "helloworld.exe R X\n",
            "pinglog W R\n",
            "nya R\n",
            "goodluck X W R\n",
            "5\n",
            "read nya\n",
            "OK\n",
            "write helloworld.exe\n",
            "Access denied\n",
            "execute nya\n",
            "Access denied\n",
            "read pinglog\n",
            "OK\n",
            "write pinglog\n",
            "OK\n"
          ]
        }
      ]
    }
  ]
}