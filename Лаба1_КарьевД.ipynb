{
  "nbformat": 4,
  "nbformat_minor": 0,
  "metadata": {
    "colab": {
      "provenance": [],
      "authorship_tag": "ABX9TyNEN44P/Hbu+/MdRsSc24Ie",
      "include_colab_link": true
    },
    "kernelspec": {
      "name": "python3",
      "display_name": "Python 3"
    },
    "language_info": {
      "name": "python"
    }
  },
  "cells": [
    {
      "cell_type": "markdown",
      "metadata": {
        "id": "view-in-github",
        "colab_type": "text"
      },
      "source": [
        "<a href=\"https://colab.research.google.com/github/P4rad0x47/-1/blob/main/%D0%9B%D0%B0%D0%B1%D0%B01_%D0%9A%D0%B0%D1%80%D1%8C%D0%B5%D0%B2%D0%94.ipynb\" target=\"_parent\"><img src=\"https://colab.research.google.com/assets/colab-badge.svg\" alt=\"Open In Colab\"/></a>"
      ]
    },
    {
      "cell_type": "markdown",
      "source": [
        "1"
      ],
      "metadata": {
        "id": "ep6DWYSP9Bk7"
      }
    },
    {
      "cell_type": "code",
      "source": [
        "name = input(str(\"Введите имя: \"))\n",
        "age = input(\"Введите возраст: \")\n",
        "high = input(\"Введите рост: \")\n",
        "print(\"Привет, \" + name + \"! Тебе \" + age + \" лет, и твой рост\" + high + \"см.\")"
      ],
      "metadata": {
        "colab": {
          "base_uri": "https://localhost:8080/"
        },
        "id": "eXHNPnXT9D_T",
        "outputId": "a9e36cd1-bfff-45f1-ac71-00000aa02ba6"
      },
      "execution_count": 5,
      "outputs": [
        {
          "output_type": "stream",
          "name": "stdout",
          "text": [
            "Введите имя: иван\n",
            "Введите возраст: 12\n",
            "Введите рост: 167\n",
            "Привет, иван! Тебе 12 лет, и твой рост167см.\n"
          ]
        }
      ]
    },
    {
      "cell_type": "markdown",
      "source": [
        "2"
      ],
      "metadata": {
        "id": "y6llquuJ_F3U"
      }
    },
    {
      "cell_type": "code",
      "source": [
        "number = int(input(\"Введите целое число: \"))\n",
        "if number % 2 == 0:\n",
        "    print(f\"Число {number} - чётное.\")\n",
        "else:\n",
        "    print(f\"Число {number} - нечётное.\")\n",
        "\n",
        "if number > 0:\n",
        "    print(\"Число положительное\")\n",
        "elif number < 0:\n",
        "    print(\"Число отрицательное\")\n",
        "else:\n",
        "    print(\"Число равно нулю\")"
      ],
      "metadata": {
        "colab": {
          "base_uri": "https://localhost:8080/"
        },
        "id": "AI0Jogtu_Gub",
        "outputId": "5ec8abac-e0f7-4188-b95c-dd65319dae81"
      },
      "execution_count": 11,
      "outputs": [
        {
          "output_type": "stream",
          "name": "stdout",
          "text": [
            "Введите целое число: -56\n",
            "Число -56 - чётное.\n",
            "Число отрицательное\n"
          ]
        }
      ]
    },
    {
      "cell_type": "markdown",
      "source": [
        "3"
      ],
      "metadata": {
        "id": "YG_e9-JP_zBm"
      }
    },
    {
      "cell_type": "code",
      "source": [
        "numbers = []\n",
        "for i in range(5):\n",
        "  number = float(input(f\"Введите {i+1}-е число: \"))\n",
        "  numbers.append(number)\n",
        "largest_number = max(numbers)\n",
        "smallest = min(numbers)\n",
        "\n",
        "print(\"Самое большое число:\", largest_number)\n",
        "print(\"Наименьшее число:\", smallest)\n",
        "print(\"Сумма всех чисел: \", sum(numbers) )"
      ],
      "metadata": {
        "colab": {
          "base_uri": "https://localhost:8080/"
        },
        "id": "KlJGq043_yQu",
        "outputId": "6582b0f4-5155-49e2-b78e-07d652b0e271"
      },
      "execution_count": 14,
      "outputs": [
        {
          "output_type": "stream",
          "name": "stdout",
          "text": [
            "Введите 1-е число: 1\n",
            "Введите 2-е число: 2\n",
            "Введите 3-е число: 3\n",
            "Введите 4-е число: 4\n",
            "Введите 5-е число: 5\n",
            "Самое большое число: 5.0\n",
            "Наименьшее число: 1.0\n",
            "Сумма всех чисел:  15.0\n"
          ]
        }
      ]
    },
    {
      "cell_type": "markdown",
      "source": [
        "4"
      ],
      "metadata": {
        "id": "yFGkeGz2AqHF"
      }
    },
    {
      "cell_type": "code",
      "source": [
        "numbers = [2, 5, 8, 9, 4, 1, 0, 6]\n",
        "def sum_of_evens(numbers):\n",
        "    return sum(num for num in numbers if num % 2 == 0)\n",
        "print(\"Сумма чётных чисел: \", sum_of_evens(numbers) )"
      ],
      "metadata": {
        "colab": {
          "base_uri": "https://localhost:8080/"
        },
        "id": "8pDWdbNvAqzk",
        "outputId": "2179e276-f07e-43eb-ee0e-49d82d7c94d5"
      },
      "execution_count": 18,
      "outputs": [
        {
          "output_type": "stream",
          "name": "stdout",
          "text": [
            "Сумма чётных чисел:  20\n"
          ]
        }
      ]
    },
    {
      "cell_type": "markdown",
      "source": [
        "5"
      ],
      "metadata": {
        "id": "r5vdk9r4CZTb"
      }
    },
    {
      "cell_type": "code",
      "source": [
        "n = int(input())\n",
        "squares = [i**2 for i in range(1,n+1)]\n",
        "print(squares)"
      ],
      "metadata": {
        "colab": {
          "base_uri": "https://localhost:8080/"
        },
        "id": "do5yIcJlCaKA",
        "outputId": "9dc34802-f1d2-4269-8e73-58237cd7f907"
      },
      "execution_count": 22,
      "outputs": [
        {
          "output_type": "stream",
          "name": "stdout",
          "text": [
            "10\n",
            "[1, 4, 9, 16, 25, 36, 49, 64, 81, 100]\n"
          ]
        }
      ]
    },
    {
      "cell_type": "markdown",
      "source": [
        "6"
      ],
      "metadata": {
        "id": "dT1GXSdcC_LS"
      }
    },
    {
      "cell_type": "code",
      "source": [
        "def filter_noise(signal, threshold):\n",
        "    return [value for value in signal if abs(value) >= threshold]\n",
        "result = filter_noise([0.1, 0.5, -0.3, 0.8, -0.9, 0.2], 0.4)\n",
        "print(result)"
      ],
      "metadata": {
        "colab": {
          "base_uri": "https://localhost:8080/"
        },
        "id": "9LF-DIkaDAC7",
        "outputId": "c9dd1a74-6880-4a08-8b2c-ab15de2ccb97"
      },
      "execution_count": 23,
      "outputs": [
        {
          "output_type": "stream",
          "name": "stdout",
          "text": [
            "[0.5, 0.8, -0.9]\n"
          ]
        }
      ]
    },
    {
      "cell_type": "markdown",
      "source": [
        "7"
      ],
      "metadata": {
        "id": "O4jxyWmWEydM"
      }
    },
    {
      "cell_type": "code",
      "source": [
        "def normalize_signal(signal):\n",
        "    max_abs_value = max(abs(x) for x in signal)\n",
        "    return [x / max_abs_value for x in signal]\n",
        "result = normalize_signal([2, -4, 6, -8, 10])\n",
        "print(result)"
      ],
      "metadata": {
        "colab": {
          "base_uri": "https://localhost:8080/"
        },
        "id": "2qWthm_9Ex8d",
        "outputId": "b6b02431-e432-451f-ca30-2377bbb39320"
      },
      "execution_count": 24,
      "outputs": [
        {
          "output_type": "stream",
          "name": "stdout",
          "text": [
            "[0.2, -0.4, 0.6, -0.8, 1.0]\n"
          ]
        }
      ]
    }
  ]
}